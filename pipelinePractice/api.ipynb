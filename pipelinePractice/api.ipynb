{
 "cells": [
  {
   "cell_type": "markdown",
   "id": "8470d2e5",
   "metadata": {},
   "source": [
    "Checking the right env"
   ]
  },
  {
   "cell_type": "code",
   "execution_count": 11,
   "id": "b7bb8609",
   "metadata": {},
   "outputs": [
    {
     "name": "stdout",
     "output_type": "stream",
     "text": [
      "c:\\Users\\Swagata\\OneDrive\\Desktop\\work space\\Learning ML\\space\\Scripts\\python.exe\n"
     ]
    }
   ],
   "source": [
    "import sys\n",
    "print(sys.executable)"
   ]
  },
  {
   "cell_type": "markdown",
   "id": "70d2bd7f",
   "metadata": {},
   "source": [
    "Installing the libraries"
   ]
  },
  {
   "cell_type": "code",
   "execution_count": null,
   "id": "a2e99a2c",
   "metadata": {},
   "outputs": [
    {
     "name": "stdout",
     "output_type": "stream",
     "text": [
      "Requirement already satisfied: fastapi in c:\\users\\swagata\\onedrive\\desktop\\work space\\learning ml\\space\\lib\\site-packages (0.115.14)\n",
      "Requirement already satisfied: pydantic in c:\\users\\swagata\\onedrive\\desktop\\work space\\learning ml\\space\\lib\\site-packages (2.11.7)\n",
      "Requirement already satisfied: starlette<0.47.0,>=0.40.0 in c:\\users\\swagata\\onedrive\\desktop\\work space\\learning ml\\space\\lib\\site-packages (from fastapi) (0.46.2)\n",
      "Requirement already satisfied: typing-extensions>=4.8.0 in c:\\users\\swagata\\onedrive\\desktop\\work space\\learning ml\\space\\lib\\site-packages (from fastapi) (4.14.0)\n",
      "Requirement already satisfied: annotated-types>=0.6.0 in c:\\users\\swagata\\onedrive\\desktop\\work space\\learning ml\\space\\lib\\site-packages (from pydantic) (0.7.0)\n",
      "Requirement already satisfied: pydantic-core==2.33.2 in c:\\users\\swagata\\onedrive\\desktop\\work space\\learning ml\\space\\lib\\site-packages (from pydantic) (2.33.2)\n",
      "Requirement already satisfied: typing-inspection>=0.4.0 in c:\\users\\swagata\\onedrive\\desktop\\work space\\learning ml\\space\\lib\\site-packages (from pydantic) (0.4.1)\n",
      "Requirement already satisfied: anyio<5,>=3.6.2 in c:\\users\\swagata\\onedrive\\desktop\\work space\\learning ml\\space\\lib\\site-packages (from starlette<0.47.0,>=0.40.0->fastapi) (4.9.0)\n",
      "Requirement already satisfied: idna>=2.8 in c:\\users\\swagata\\onedrive\\desktop\\work space\\learning ml\\space\\lib\\site-packages (from anyio<5,>=3.6.2->starlette<0.47.0,>=0.40.0->fastapi) (3.10)\n",
      "Requirement already satisfied: sniffio>=1.1 in c:\\users\\swagata\\onedrive\\desktop\\work space\\learning ml\\space\\lib\\site-packages (from anyio<5,>=3.6.2->starlette<0.47.0,>=0.40.0->fastapi) (1.3.1)\n",
      "Note: you may need to restart the kernel to use updated packages.\n"
     ]
    },
    {
     "name": "stderr",
     "output_type": "stream",
     "text": [
      "\n",
      "[notice] A new release of pip is available: 24.2 -> 25.1.1\n",
      "[notice] To update, run: python.exe -m pip install --upgrade pip\n"
     ]
    }
   ],
   "source": [
    "%pip install fastapi pydantic\n",
    "%pip install requests\n",
    "%pip install uvicorn\n",
    "%pip install nest_asyncio\n"
   ]
  },
  {
   "cell_type": "markdown",
   "id": "52935830",
   "metadata": {},
   "source": [
    "API app using fastapi"
   ]
  },
  {
   "cell_type": "code",
   "execution_count": 14,
   "id": "3a883ae7",
   "metadata": {},
   "outputs": [],
   "source": [
    "from fastapi import FastAPI\n",
    "from pydantic import BaseModel\n",
    "from pydantic import Field\n",
    "from pickle import load\n",
    "\n",
    "#making an object of FastAPI, that will help in accessing all the methods\n",
    "app = FastAPI()\n",
    "\n",
    "#using pickle load() function loading the model.pkl file into a variable\n",
    "with open(\"pipeline.pkl\",\"rb\") as file:\n",
    "    pipeline = load(file) \n",
    "\n",
    "#get METHOD to register a get route to get input things\n",
    "@app.get(\"/\")\n",
    "def message():\n",
    "    return {\"message\" : \"This is a classification model and on the basis of , it will return the prediction of the type of star\"}\n",
    "\n",
    "#adding input features for the model using BaseModel of pydantic, which further uses MetaModelClass(blueprint for the class) internally, BaseModel validates the no of input features and the type of data fields as well as type conversion if it can safely do.\n",
    "class indata(BaseModel):\n",
    "    Temperature : int = Field(..., alias = \"Temperature (K)\")\n",
    "    Luminosity : float = Field(..., alias = \"Luminosity(L/Lo)\")\n",
    "    Radius : float = Field(..., alias = \"Radius(R/Ro)\")\n",
    "    Absolute_magnitude : float = Field(..., alias = \"Absolute magnitude(Mv)\")\n",
    "\n",
    "#post method to register a get route to the URL, so when an user posts requests to the URL, it will perform the function and return the result\n",
    "@app.post(\"/startype\")\n",
    "\n",
    "#the data is an object of class indata, which helps in exctracting the values of class variables.\n",
    "def predict(data : indata):\n",
    "    input_list = [[data.Temperature,\n",
    "                   data.Luminosity,\n",
    "                   data.Radius,\n",
    "                   data.Absolute_magnitude]]\n",
    "    \n",
    "    prediction = pipeline.predict(input_list)\n",
    "    return {\"prediction done by model\" : prediction.tolist()}\n",
    "\n"
   ]
  },
  {
   "cell_type": "markdown",
   "id": "21366bd3",
   "metadata": {},
   "source": [
    "Applying nest_asyncio patch so that uvicorn and jupyter runs independently without crashing into each other"
   ]
  },
  {
   "cell_type": "code",
   "execution_count": 18,
   "id": "49484883",
   "metadata": {},
   "outputs": [],
   "source": [
    "import nest_asyncio\n",
    "nest_asyncio.apply()"
   ]
  },
  {
   "cell_type": "code",
   "execution_count": 19,
   "id": "fe7e2a6e",
   "metadata": {},
   "outputs": [
    {
     "name": "stderr",
     "output_type": "stream",
     "text": [
      "INFO:     Started server process [15064]\n",
      "INFO:     Waiting for application startup.\n",
      "INFO:     Application startup complete.\n",
      "INFO:     Uvicorn running on http://127.0.0.1:8000 (Press CTRL+C to quit)\n"
     ]
    },
    {
     "name": "stderr",
     "output_type": "stream",
     "text": [
      "Task exception was never retrieved\n",
      "future: <Task finished name='Task-1' coro=<Server.serve() done, defined at c:\\Users\\Swagata\\OneDrive\\Desktop\\work space\\Learning ML\\space\\Lib\\site-packages\\uvicorn\\server.py:69> exception=KeyboardInterrupt()>\n",
      "Traceback (most recent call last):\n",
      "  File \"c:\\Users\\Swagata\\OneDrive\\Desktop\\work space\\Learning ML\\space\\Lib\\site-packages\\uvicorn\\main.py\", line 580, in run\n",
      "    server.run()\n",
      "  File \"c:\\Users\\Swagata\\OneDrive\\Desktop\\work space\\Learning ML\\space\\Lib\\site-packages\\uvicorn\\server.py\", line 67, in run\n",
      "    return asyncio.run(self.serve(sockets=sockets))\n",
      "           ^^^^^^^^^^^^^^^^^^^^^^^^^^^^^^^^^^^^^^^^\n",
      "  File \"c:\\Users\\Swagata\\OneDrive\\Desktop\\work space\\Learning ML\\space\\Lib\\site-packages\\nest_asyncio.py\", line 30, in run\n",
      "    return loop.run_until_complete(task)\n",
      "           ^^^^^^^^^^^^^^^^^^^^^^^^^^^^^\n",
      "  File \"c:\\Users\\Swagata\\OneDrive\\Desktop\\work space\\Learning ML\\space\\Lib\\site-packages\\nest_asyncio.py\", line 92, in run_until_complete\n",
      "    self._run_once()\n",
      "  File \"c:\\Users\\Swagata\\OneDrive\\Desktop\\work space\\Learning ML\\space\\Lib\\site-packages\\nest_asyncio.py\", line 133, in _run_once\n",
      "    handle._run()\n",
      "  File \"C:\\Users\\Swagata\\AppData\\Local\\Programs\\Python\\Python312\\Lib\\asyncio\\events.py\", line 88, in _run\n",
      "    self._context.run(self._callback, *self._args)\n",
      "  File \"C:\\Users\\Swagata\\AppData\\Local\\Programs\\Python\\Python312\\Lib\\asyncio\\tasks.py\", line 396, in __wakeup\n",
      "    self.__step()\n",
      "  File \"C:\\Users\\Swagata\\AppData\\Local\\Programs\\Python\\Python312\\Lib\\asyncio\\tasks.py\", line 303, in __step\n",
      "    self.__step_run_and_handle_result(exc)\n",
      "  File \"C:\\Users\\Swagata\\AppData\\Local\\Programs\\Python\\Python312\\Lib\\asyncio\\tasks.py\", line 314, in __step_run_and_handle_result\n",
      "    result = coro.send(None)\n",
      "             ^^^^^^^^^^^^^^^\n",
      "  File \"c:\\Users\\Swagata\\OneDrive\\Desktop\\work space\\Learning ML\\space\\Lib\\site-packages\\uvicorn\\server.py\", line 70, in serve\n",
      "    with self.capture_signals():\n",
      "  File \"C:\\Users\\Swagata\\AppData\\Local\\Programs\\Python\\Python312\\Lib\\contextlib.py\", line 144, in __exit__\n",
      "    next(self.gen)\n",
      "  File \"c:\\Users\\Swagata\\OneDrive\\Desktop\\work space\\Learning ML\\space\\Lib\\site-packages\\uvicorn\\server.py\", line 331, in capture_signals\n",
      "    signal.raise_signal(captured_signal)\n",
      "KeyboardInterrupt\n"
     ]
    },
    {
     "name": "stdout",
     "output_type": "stream",
     "text": [
      "INFO:     127.0.0.1:58272 - \"GET / HTTP/1.1\" 200 OK\n",
      "INFO:     127.0.0.1:58275 - \"GET /docs HTTP/1.1\" 200 OK\n",
      "INFO:     127.0.0.1:58275 - \"GET /openapi.json HTTP/1.1\" 200 OK\n",
      "INFO:     127.0.0.1:58282 - \"POST /startype HTTP/1.1\" 200 OK\n"
     ]
    },
    {
     "name": "stderr",
     "output_type": "stream",
     "text": [
      "c:\\Users\\Swagata\\OneDrive\\Desktop\\work space\\Learning ML\\space\\Lib\\site-packages\\sklearn\\utils\\validation.py:2749: UserWarning: X does not have valid feature names, but StandardScaler was fitted with feature names\n",
      "  warnings.warn(\n",
      "INFO:     Shutting down\n",
      "INFO:     Waiting for application shutdown.\n",
      "INFO:     Application shutdown complete.\n",
      "INFO:     Finished server process [15064]\n"
     ]
    }
   ],
   "source": [
    "#importing uvicorn to use the fastapi server dash\n",
    "import uvicorn\n",
    "uvicorn.run(app,host=\"127.0.0.1\",port=8000)\n"
   ]
  }
 ],
 "metadata": {
  "kernelspec": {
   "display_name": "space",
   "language": "python",
   "name": "python3"
  },
  "language_info": {
   "codemirror_mode": {
    "name": "ipython",
    "version": 3
   },
   "file_extension": ".py",
   "mimetype": "text/x-python",
   "name": "python",
   "nbconvert_exporter": "python",
   "pygments_lexer": "ipython3",
   "version": "3.12.5"
  }
 },
 "nbformat": 4,
 "nbformat_minor": 5
}
