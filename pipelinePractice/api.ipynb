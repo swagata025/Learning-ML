{
 "cells": [
  {
   "cell_type": "code",
   "execution_count": 1,
   "id": "b7bb8609",
   "metadata": {},
   "outputs": [
    {
     "name": "stdout",
     "output_type": "stream",
     "text": [
      "c:\\Users\\Swagata\\OneDrive\\Desktop\\work space\\Learning ML\\space\\Scripts\\python.exe\n"
     ]
    }
   ],
   "source": [
    "import sys\n",
    "print(sys.executable)"
   ]
  },
  {
   "cell_type": "code",
   "execution_count": 2,
   "id": "a2e99a2c",
   "metadata": {},
   "outputs": [
    {
     "name": "stdout",
     "output_type": "stream",
     "text": [
      "Requirement already satisfied: fastapi in c:\\users\\swagata\\onedrive\\desktop\\work space\\learning ml\\space\\lib\\site-packages (0.115.14)\n",
      "Requirement already satisfied: pydantic in c:\\users\\swagata\\onedrive\\desktop\\work space\\learning ml\\space\\lib\\site-packages (2.11.7)\n",
      "Requirement already satisfied: starlette<0.47.0,>=0.40.0 in c:\\users\\swagata\\onedrive\\desktop\\work space\\learning ml\\space\\lib\\site-packages (from fastapi) (0.46.2)\n",
      "Requirement already satisfied: typing-extensions>=4.8.0 in c:\\users\\swagata\\onedrive\\desktop\\work space\\learning ml\\space\\lib\\site-packages (from fastapi) (4.14.0)\n",
      "Requirement already satisfied: annotated-types>=0.6.0 in c:\\users\\swagata\\onedrive\\desktop\\work space\\learning ml\\space\\lib\\site-packages (from pydantic) (0.7.0)\n",
      "Requirement already satisfied: pydantic-core==2.33.2 in c:\\users\\swagata\\onedrive\\desktop\\work space\\learning ml\\space\\lib\\site-packages (from pydantic) (2.33.2)\n",
      "Requirement already satisfied: typing-inspection>=0.4.0 in c:\\users\\swagata\\onedrive\\desktop\\work space\\learning ml\\space\\lib\\site-packages (from pydantic) (0.4.1)\n",
      "Requirement already satisfied: anyio<5,>=3.6.2 in c:\\users\\swagata\\onedrive\\desktop\\work space\\learning ml\\space\\lib\\site-packages (from starlette<0.47.0,>=0.40.0->fastapi) (4.9.0)\n",
      "Requirement already satisfied: idna>=2.8 in c:\\users\\swagata\\onedrive\\desktop\\work space\\learning ml\\space\\lib\\site-packages (from anyio<5,>=3.6.2->starlette<0.47.0,>=0.40.0->fastapi) (3.10)\n",
      "Requirement already satisfied: sniffio>=1.1 in c:\\users\\swagata\\onedrive\\desktop\\work space\\learning ml\\space\\lib\\site-packages (from anyio<5,>=3.6.2->starlette<0.47.0,>=0.40.0->fastapi) (1.3.1)\n",
      "Note: you may need to restart the kernel to use updated packages.\n"
     ]
    },
    {
     "name": "stderr",
     "output_type": "stream",
     "text": [
      "\n",
      "[notice] A new release of pip is available: 24.2 -> 25.1.1\n",
      "[notice] To update, run: python.exe -m pip install --upgrade pip\n"
     ]
    }
   ],
   "source": [
    "%pip install fastapi pydantic"
   ]
  },
  {
   "cell_type": "code",
   "execution_count": 3,
   "id": "396895dc",
   "metadata": {},
   "outputs": [
    {
     "name": "stdout",
     "output_type": "stream",
     "text": [
      "Package                 Version\n",
      "----------------------- -----------\n",
      "annotated-types         0.7.0\n",
      "anyio                   4.9.0\n",
      "asttokens               3.0.0\n",
      "certifi                 2025.6.15\n",
      "charset-normalizer      3.4.2\n",
      "click                   8.2.1\n",
      "colorama                0.4.6\n",
      "comm                    0.2.2\n",
      "contourpy               1.3.2\n",
      "cycler                  0.12.1\n",
      "debugpy                 1.8.14\n",
      "decorator               5.2.1\n",
      "executing               2.2.0\n",
      "fastapi                 0.115.14\n",
      "fonttools               4.58.1\n",
      "h11                     0.16.0\n",
      "idna                    3.10\n",
      "ipykernel               6.29.5\n",
      "ipython                 9.3.0\n",
      "ipython_pygments_lexers 1.1.1\n",
      "jedi                    0.19.2\n",
      "joblib                  1.5.1\n",
      "jupyter_client          8.6.3\n",
      "jupyter_core            5.8.1\n",
      "kiwisolver              1.4.8\n",
      "matplotlib              3.10.3\n",
      "matplotlib-inline       0.1.7\n",
      "nest-asyncio            1.6.0\n",
      "numpy                   2.2.6\n",
      "packaging               25.0\n",
      "pandas                  2.3.0\n",
      "parso                   0.8.4\n",
      "pillow                  11.2.1\n",
      "pip                     24.2\n",
      "platformdirs            4.3.8\n",
      "prompt_toolkit          3.0.51\n",
      "psutil                  7.0.0\n",
      "pure_eval               0.2.3\n",
      "pydantic                2.11.7\n",
      "pydantic_core           2.33.2\n",
      "Pygments                2.19.1\n",
      "pyparsing               3.2.3\n",
      "python-dateutil         2.9.0.post0\n",
      "pytz                    2025.2\n",
      "pywin32                 310\n",
      "pyzmq                   26.4.0\n",
      "requests                2.32.4\n",
      "scikit-learn            1.7.0\n",
      "scipy                   1.16.0\n",
      "six                     1.17.0\n",
      "sniffio                 1.3.1\n",
      "stack-data              0.6.3\n",
      "starlette               0.46.2\n",
      "threadpoolctl           3.6.0\n",
      "tornado                 6.5.1\n",
      "traitlets               5.14.3\n",
      "typing_extensions       4.14.0\n",
      "typing-inspection       0.4.1\n",
      "tzdata                  2025.2\n",
      "urllib3                 2.5.0\n",
      "uvicorn                 0.35.0\n",
      "wcwidth                 0.2.13\n",
      "Note: you may need to restart the kernel to use updated packages.\n"
     ]
    }
   ],
   "source": [
    "%pip list"
   ]
  },
  {
   "cell_type": "code",
   "execution_count": 4,
   "id": "3a883ae7",
   "metadata": {},
   "outputs": [],
   "source": [
    "from fastapi import FastAPI\n",
    "from pydantic import BaseModel\n",
    "from pydantic import Field\n",
    "from pickle import load\n",
    "\n",
    "#making an object of FastAPI, that will help in accessing all the methods\n",
    "app = FastAPI()\n",
    "\n",
    "#using pickle load() function loading the model.pkl file into a variable\n",
    "with open(\"pipeline.pkl\",\"rb\") as file:\n",
    "    pipeline = load(file) \n",
    "\n",
    "#get METHOD to register a get route to get input things\n",
    "@app.get(\"/\")\n",
    "def message():\n",
    "    return {\"message\" : \"This is a classification model and on the basis of , it will return the prediction of the type of star\"}\n",
    "\n",
    "#adding input features for the model using BaseModel of pydantic, which further uses MetaModelClass(blueprint for the class) internally, BaseModel validates the no of input features and the type of data fields as well as type conversion if it can safely do.\n",
    "class indata(BaseModel):\n",
    "    Temperature : int = Field(..., alias = \"Temperature (K)\")\n",
    "    Luminosity : float = Field(..., alias = \"Luminosity(L/Lo)\")\n",
    "    Radius : float = Field(..., alias = \"Radius(R/Ro)\")\n",
    "    Absolute_magnitude : float = Field(..., alias = \"Absolute magnitude(Mv)\")\n",
    "\n",
    "#post method to register a get route to the URL, so when an user posts requests to the URL, it will perform the function and return the result\n",
    "@app.post(\"/startype\")\n",
    "\n",
    "#the data is an object of class indata, which helps in exctracting the values of class variables.\n",
    "def predict(data : indata):\n",
    "    input_list = [[data.Temperature,\n",
    "                   data.Luminosity,\n",
    "                   data.Radius,\n",
    "                   data.Absolute_magnitude]]\n",
    "    \n",
    "    prediction = pipeline.predict(input_list)\n",
    "    return {\"prediction done by model\" : prediction}\n",
    "\n"
   ]
  },
  {
   "cell_type": "code",
   "execution_count": 5,
   "id": "3b3784a6",
   "metadata": {},
   "outputs": [
    {
     "name": "stdout",
     "output_type": "stream",
     "text": [
      "Requirement already satisfied: requests in c:\\users\\swagata\\onedrive\\desktop\\work space\\learning ml\\space\\lib\\site-packages (2.32.4)\n",
      "Requirement already satisfied: charset_normalizer<4,>=2 in c:\\users\\swagata\\onedrive\\desktop\\work space\\learning ml\\space\\lib\\site-packages (from requests) (3.4.2)\n",
      "Requirement already satisfied: idna<4,>=2.5 in c:\\users\\swagata\\onedrive\\desktop\\work space\\learning ml\\space\\lib\\site-packages (from requests) (3.10)\n",
      "Requirement already satisfied: urllib3<3,>=1.21.1 in c:\\users\\swagata\\onedrive\\desktop\\work space\\learning ml\\space\\lib\\site-packages (from requests) (2.5.0)\n",
      "Requirement already satisfied: certifi>=2017.4.17 in c:\\users\\swagata\\onedrive\\desktop\\work space\\learning ml\\space\\lib\\site-packages (from requests) (2025.6.15)\n",
      "Note: you may need to restart the kernel to use updated packages.\n"
     ]
    },
    {
     "name": "stderr",
     "output_type": "stream",
     "text": [
      "\n",
      "[notice] A new release of pip is available: 24.2 -> 25.1.1\n",
      "[notice] To update, run: python.exe -m pip install --upgrade pip\n"
     ]
    }
   ],
   "source": [
    "%pip install requests"
   ]
  },
  {
   "cell_type": "code",
   "execution_count": 6,
   "id": "05e83409",
   "metadata": {},
   "outputs": [
    {
     "name": "stdout",
     "output_type": "stream",
     "text": [
      "Requirement already satisfied: uvicorn in c:\\users\\swagata\\onedrive\\desktop\\work space\\learning ml\\space\\lib\\site-packages (0.35.0)\n",
      "Requirement already satisfied: click>=7.0 in c:\\users\\swagata\\onedrive\\desktop\\work space\\learning ml\\space\\lib\\site-packages (from uvicorn) (8.2.1)\n",
      "Requirement already satisfied: h11>=0.8 in c:\\users\\swagata\\onedrive\\desktop\\work space\\learning ml\\space\\lib\\site-packages (from uvicorn) (0.16.0)\n",
      "Requirement already satisfied: colorama in c:\\users\\swagata\\onedrive\\desktop\\work space\\learning ml\\space\\lib\\site-packages (from click>=7.0->uvicorn) (0.4.6)\n",
      "Note: you may need to restart the kernel to use updated packages.\n"
     ]
    },
    {
     "name": "stderr",
     "output_type": "stream",
     "text": [
      "\n",
      "[notice] A new release of pip is available: 24.2 -> 25.1.1\n",
      "[notice] To update, run: python.exe -m pip install --upgrade pip\n"
     ]
    }
   ],
   "source": [
    "%pip install uvicorn"
   ]
  },
  {
   "cell_type": "code",
   "execution_count": 8,
   "id": "f181297e",
   "metadata": {},
   "outputs": [
    {
     "name": "stdout",
     "output_type": "stream",
     "text": [
      "Requirement already satisfied: nest_asyncio in c:\\users\\swagata\\onedrive\\desktop\\work space\\learning ml\\space\\lib\\site-packages (1.6.0)\n",
      "Note: you may need to restart the kernel to use updated packages.\n"
     ]
    },
    {
     "name": "stderr",
     "output_type": "stream",
     "text": [
      "\n",
      "[notice] A new release of pip is available: 24.2 -> 25.1.1\n",
      "[notice] To update, run: python.exe -m pip install --upgrade pip\n"
     ]
    }
   ],
   "source": [
    "%pip install nest_asyncio"
   ]
  },
  {
   "cell_type": "code",
   "execution_count": 9,
   "id": "49484883",
   "metadata": {},
   "outputs": [],
   "source": [
    "import nest_asyncio\n",
    "nest_asyncio.apply()"
   ]
  },
  {
   "cell_type": "code",
   "execution_count": 10,
   "id": "fe7e2a6e",
   "metadata": {},
   "outputs": [
    {
     "name": "stderr",
     "output_type": "stream",
     "text": [
      "INFO:     Started server process [15064]\n",
      "INFO:     Waiting for application startup.\n",
      "INFO:     Application startup complete.\n",
      "INFO:     Uvicorn running on http://127.0.0.1:8000 (Press CTRL+C to quit)\n"
     ]
    },
    {
     "name": "stdout",
     "output_type": "stream",
     "text": [
      "INFO:     127.0.0.1:58100 - \"GET / HTTP/1.1\" 200 OK\n",
      "INFO:     127.0.0.1:58100 - \"GET /favicon.ico HTTP/1.1\" 404 Not Found\n",
      "INFO:     127.0.0.1:58107 - \"GET /docs HTTP/1.1\" 200 OK\n",
      "INFO:     127.0.0.1:58107 - \"GET /openapi.json HTTP/1.1\" 200 OK\n",
      "INFO:     127.0.0.1:58185 - \"POST /startype HTTP/1.1\" 500 Internal Server Error\n"
     ]
    },
    {
     "name": "stderr",
     "output_type": "stream",
     "text": [
      "c:\\Users\\Swagata\\OneDrive\\Desktop\\work space\\Learning ML\\space\\Lib\\site-packages\\sklearn\\utils\\validation.py:2749: UserWarning: X does not have valid feature names, but StandardScaler was fitted with feature names\n",
      "  warnings.warn(\n",
      "ERROR:    Exception in ASGI application\n",
      "Traceback (most recent call last):\n",
      "  File \"c:\\Users\\Swagata\\OneDrive\\Desktop\\work space\\Learning ML\\space\\Lib\\site-packages\\fastapi\\encoders.py\", line 324, in jsonable_encoder\n",
      "    data = dict(obj)\n",
      "           ^^^^^^^^^\n",
      "ValueError: dictionary update sequence element #0 has length 10; 2 is required\n",
      "\n",
      "During handling of the above exception, another exception occurred:\n",
      "\n",
      "Traceback (most recent call last):\n",
      "  File \"c:\\Users\\Swagata\\OneDrive\\Desktop\\work space\\Learning ML\\space\\Lib\\site-packages\\fastapi\\encoders.py\", line 329, in jsonable_encoder\n",
      "    data = vars(obj)\n",
      "           ^^^^^^^^^\n",
      "TypeError: vars() argument must have __dict__ attribute\n",
      "\n",
      "The above exception was the direct cause of the following exception:\n",
      "\n",
      "Traceback (most recent call last):\n",
      "  File \"c:\\Users\\Swagata\\OneDrive\\Desktop\\work space\\Learning ML\\space\\Lib\\site-packages\\uvicorn\\protocols\\http\\h11_impl.py\", line 403, in run_asgi\n",
      "    result = await app(  # type: ignore[func-returns-value]\n",
      "             ^^^^^^^^^^^^^^^^^^^^^^^^^^^^^^^^^^^^^^^^^^^^^^\n",
      "  File \"c:\\Users\\Swagata\\OneDrive\\Desktop\\work space\\Learning ML\\space\\Lib\\site-packages\\uvicorn\\middleware\\proxy_headers.py\", line 60, in __call__\n",
      "    return await self.app(scope, receive, send)\n",
      "           ^^^^^^^^^^^^^^^^^^^^^^^^^^^^^^^^^^^^\n",
      "  File \"c:\\Users\\Swagata\\OneDrive\\Desktop\\work space\\Learning ML\\space\\Lib\\site-packages\\fastapi\\applications.py\", line 1054, in __call__\n",
      "    await super().__call__(scope, receive, send)\n",
      "  File \"c:\\Users\\Swagata\\OneDrive\\Desktop\\work space\\Learning ML\\space\\Lib\\site-packages\\starlette\\applications.py\", line 112, in __call__\n",
      "    await self.middleware_stack(scope, receive, send)\n",
      "  File \"c:\\Users\\Swagata\\OneDrive\\Desktop\\work space\\Learning ML\\space\\Lib\\site-packages\\starlette\\middleware\\errors.py\", line 187, in __call__\n",
      "    raise exc\n",
      "  File \"c:\\Users\\Swagata\\OneDrive\\Desktop\\work space\\Learning ML\\space\\Lib\\site-packages\\starlette\\middleware\\errors.py\", line 165, in __call__\n",
      "    await self.app(scope, receive, _send)\n",
      "  File \"c:\\Users\\Swagata\\OneDrive\\Desktop\\work space\\Learning ML\\space\\Lib\\site-packages\\starlette\\middleware\\exceptions.py\", line 62, in __call__\n",
      "    await wrap_app_handling_exceptions(self.app, conn)(scope, receive, send)\n",
      "  File \"c:\\Users\\Swagata\\OneDrive\\Desktop\\work space\\Learning ML\\space\\Lib\\site-packages\\starlette\\_exception_handler.py\", line 53, in wrapped_app\n",
      "    raise exc\n",
      "  File \"c:\\Users\\Swagata\\OneDrive\\Desktop\\work space\\Learning ML\\space\\Lib\\site-packages\\starlette\\_exception_handler.py\", line 42, in wrapped_app\n",
      "    await app(scope, receive, sender)\n",
      "  File \"c:\\Users\\Swagata\\OneDrive\\Desktop\\work space\\Learning ML\\space\\Lib\\site-packages\\starlette\\routing.py\", line 714, in __call__\n",
      "    await self.middleware_stack(scope, receive, send)\n",
      "  File \"c:\\Users\\Swagata\\OneDrive\\Desktop\\work space\\Learning ML\\space\\Lib\\site-packages\\starlette\\routing.py\", line 734, in app\n",
      "    await route.handle(scope, receive, send)\n",
      "  File \"c:\\Users\\Swagata\\OneDrive\\Desktop\\work space\\Learning ML\\space\\Lib\\site-packages\\starlette\\routing.py\", line 288, in handle\n",
      "    await self.app(scope, receive, send)\n",
      "  File \"c:\\Users\\Swagata\\OneDrive\\Desktop\\work space\\Learning ML\\space\\Lib\\site-packages\\starlette\\routing.py\", line 76, in app\n",
      "    await wrap_app_handling_exceptions(app, request)(scope, receive, send)\n",
      "  File \"c:\\Users\\Swagata\\OneDrive\\Desktop\\work space\\Learning ML\\space\\Lib\\site-packages\\starlette\\_exception_handler.py\", line 53, in wrapped_app\n",
      "    raise exc\n",
      "  File \"c:\\Users\\Swagata\\OneDrive\\Desktop\\work space\\Learning ML\\space\\Lib\\site-packages\\starlette\\_exception_handler.py\", line 42, in wrapped_app\n",
      "    await app(scope, receive, sender)\n",
      "  File \"c:\\Users\\Swagata\\OneDrive\\Desktop\\work space\\Learning ML\\space\\Lib\\site-packages\\starlette\\routing.py\", line 73, in app\n",
      "    response = await f(request)\n",
      "               ^^^^^^^^^^^^^^^^\n",
      "  File \"c:\\Users\\Swagata\\OneDrive\\Desktop\\work space\\Learning ML\\space\\Lib\\site-packages\\fastapi\\routing.py\", line 327, in app\n",
      "    content = await serialize_response(\n",
      "              ^^^^^^^^^^^^^^^^^^^^^^^^^\n",
      "  File \"c:\\Users\\Swagata\\OneDrive\\Desktop\\work space\\Learning ML\\space\\Lib\\site-packages\\fastapi\\routing.py\", line 201, in serialize_response\n",
      "    return jsonable_encoder(response_content)\n",
      "           ^^^^^^^^^^^^^^^^^^^^^^^^^^^^^^^^^^\n",
      "  File \"c:\\Users\\Swagata\\OneDrive\\Desktop\\work space\\Learning ML\\space\\Lib\\site-packages\\fastapi\\encoders.py\", line 289, in jsonable_encoder\n",
      "    encoded_value = jsonable_encoder(\n",
      "                    ^^^^^^^^^^^^^^^^^\n",
      "  File \"c:\\Users\\Swagata\\OneDrive\\Desktop\\work space\\Learning ML\\space\\Lib\\site-packages\\fastapi\\encoders.py\", line 332, in jsonable_encoder\n",
      "    raise ValueError(errors) from e\n",
      "ValueError: [ValueError('dictionary update sequence element #0 has length 10; 2 is required'), TypeError('vars() argument must have __dict__ attribute')]\n"
     ]
    },
    {
     "name": "stdout",
     "output_type": "stream",
     "text": [
      "INFO:     127.0.0.1:58189 - \"POST /startype HTTP/1.1\" 500 Internal Server Error\n"
     ]
    },
    {
     "name": "stderr",
     "output_type": "stream",
     "text": [
      "c:\\Users\\Swagata\\OneDrive\\Desktop\\work space\\Learning ML\\space\\Lib\\site-packages\\sklearn\\utils\\validation.py:2749: UserWarning: X does not have valid feature names, but StandardScaler was fitted with feature names\n",
      "  warnings.warn(\n",
      "ERROR:    Exception in ASGI application\n",
      "Traceback (most recent call last):\n",
      "  File \"c:\\Users\\Swagata\\OneDrive\\Desktop\\work space\\Learning ML\\space\\Lib\\site-packages\\fastapi\\encoders.py\", line 324, in jsonable_encoder\n",
      "    data = dict(obj)\n",
      "           ^^^^^^^^^\n",
      "ValueError: dictionary update sequence element #0 has length 10; 2 is required\n",
      "\n",
      "During handling of the above exception, another exception occurred:\n",
      "\n",
      "Traceback (most recent call last):\n",
      "  File \"c:\\Users\\Swagata\\OneDrive\\Desktop\\work space\\Learning ML\\space\\Lib\\site-packages\\fastapi\\encoders.py\", line 329, in jsonable_encoder\n",
      "    data = vars(obj)\n",
      "           ^^^^^^^^^\n",
      "TypeError: vars() argument must have __dict__ attribute\n",
      "\n",
      "The above exception was the direct cause of the following exception:\n",
      "\n",
      "Traceback (most recent call last):\n",
      "  File \"c:\\Users\\Swagata\\OneDrive\\Desktop\\work space\\Learning ML\\space\\Lib\\site-packages\\uvicorn\\protocols\\http\\h11_impl.py\", line 403, in run_asgi\n",
      "    result = await app(  # type: ignore[func-returns-value]\n",
      "             ^^^^^^^^^^^^^^^^^^^^^^^^^^^^^^^^^^^^^^^^^^^^^^\n",
      "  File \"c:\\Users\\Swagata\\OneDrive\\Desktop\\work space\\Learning ML\\space\\Lib\\site-packages\\uvicorn\\middleware\\proxy_headers.py\", line 60, in __call__\n",
      "    return await self.app(scope, receive, send)\n",
      "           ^^^^^^^^^^^^^^^^^^^^^^^^^^^^^^^^^^^^\n",
      "  File \"c:\\Users\\Swagata\\OneDrive\\Desktop\\work space\\Learning ML\\space\\Lib\\site-packages\\fastapi\\applications.py\", line 1054, in __call__\n",
      "    await super().__call__(scope, receive, send)\n",
      "  File \"c:\\Users\\Swagata\\OneDrive\\Desktop\\work space\\Learning ML\\space\\Lib\\site-packages\\starlette\\applications.py\", line 112, in __call__\n",
      "    await self.middleware_stack(scope, receive, send)\n",
      "  File \"c:\\Users\\Swagata\\OneDrive\\Desktop\\work space\\Learning ML\\space\\Lib\\site-packages\\starlette\\middleware\\errors.py\", line 187, in __call__\n",
      "    raise exc\n",
      "  File \"c:\\Users\\Swagata\\OneDrive\\Desktop\\work space\\Learning ML\\space\\Lib\\site-packages\\starlette\\middleware\\errors.py\", line 165, in __call__\n",
      "    await self.app(scope, receive, _send)\n",
      "  File \"c:\\Users\\Swagata\\OneDrive\\Desktop\\work space\\Learning ML\\space\\Lib\\site-packages\\starlette\\middleware\\exceptions.py\", line 62, in __call__\n",
      "    await wrap_app_handling_exceptions(self.app, conn)(scope, receive, send)\n",
      "  File \"c:\\Users\\Swagata\\OneDrive\\Desktop\\work space\\Learning ML\\space\\Lib\\site-packages\\starlette\\_exception_handler.py\", line 53, in wrapped_app\n",
      "    raise exc\n",
      "  File \"c:\\Users\\Swagata\\OneDrive\\Desktop\\work space\\Learning ML\\space\\Lib\\site-packages\\starlette\\_exception_handler.py\", line 42, in wrapped_app\n",
      "    await app(scope, receive, sender)\n",
      "  File \"c:\\Users\\Swagata\\OneDrive\\Desktop\\work space\\Learning ML\\space\\Lib\\site-packages\\starlette\\routing.py\", line 714, in __call__\n",
      "    await self.middleware_stack(scope, receive, send)\n",
      "  File \"c:\\Users\\Swagata\\OneDrive\\Desktop\\work space\\Learning ML\\space\\Lib\\site-packages\\starlette\\routing.py\", line 734, in app\n",
      "    await route.handle(scope, receive, send)\n",
      "  File \"c:\\Users\\Swagata\\OneDrive\\Desktop\\work space\\Learning ML\\space\\Lib\\site-packages\\starlette\\routing.py\", line 288, in handle\n",
      "    await self.app(scope, receive, send)\n",
      "  File \"c:\\Users\\Swagata\\OneDrive\\Desktop\\work space\\Learning ML\\space\\Lib\\site-packages\\starlette\\routing.py\", line 76, in app\n",
      "    await wrap_app_handling_exceptions(app, request)(scope, receive, send)\n",
      "  File \"c:\\Users\\Swagata\\OneDrive\\Desktop\\work space\\Learning ML\\space\\Lib\\site-packages\\starlette\\_exception_handler.py\", line 53, in wrapped_app\n",
      "    raise exc\n",
      "  File \"c:\\Users\\Swagata\\OneDrive\\Desktop\\work space\\Learning ML\\space\\Lib\\site-packages\\starlette\\_exception_handler.py\", line 42, in wrapped_app\n",
      "    await app(scope, receive, sender)\n",
      "  File \"c:\\Users\\Swagata\\OneDrive\\Desktop\\work space\\Learning ML\\space\\Lib\\site-packages\\starlette\\routing.py\", line 73, in app\n",
      "    response = await f(request)\n",
      "               ^^^^^^^^^^^^^^^^\n",
      "  File \"c:\\Users\\Swagata\\OneDrive\\Desktop\\work space\\Learning ML\\space\\Lib\\site-packages\\fastapi\\routing.py\", line 327, in app\n",
      "    content = await serialize_response(\n",
      "              ^^^^^^^^^^^^^^^^^^^^^^^^^\n",
      "  File \"c:\\Users\\Swagata\\OneDrive\\Desktop\\work space\\Learning ML\\space\\Lib\\site-packages\\fastapi\\routing.py\", line 201, in serialize_response\n",
      "    return jsonable_encoder(response_content)\n",
      "           ^^^^^^^^^^^^^^^^^^^^^^^^^^^^^^^^^^\n",
      "  File \"c:\\Users\\Swagata\\OneDrive\\Desktop\\work space\\Learning ML\\space\\Lib\\site-packages\\fastapi\\encoders.py\", line 289, in jsonable_encoder\n",
      "    encoded_value = jsonable_encoder(\n",
      "                    ^^^^^^^^^^^^^^^^^\n",
      "  File \"c:\\Users\\Swagata\\OneDrive\\Desktop\\work space\\Learning ML\\space\\Lib\\site-packages\\fastapi\\encoders.py\", line 332, in jsonable_encoder\n",
      "    raise ValueError(errors) from e\n",
      "ValueError: [ValueError('dictionary update sequence element #0 has length 10; 2 is required'), TypeError('vars() argument must have __dict__ attribute')]\n",
      "INFO:     Shutting down\n",
      "INFO:     Waiting for application shutdown.\n",
      "INFO:     Application shutdown complete.\n",
      "INFO:     Finished server process [15064]\n"
     ]
    }
   ],
   "source": [
    "#importing uvicorn to use the fastapi server dash\n",
    "import uvicorn\n",
    "uvicorn.run(app,host=\"127.0.0.1\",port=8000)\n"
   ]
  }
 ],
 "metadata": {
  "kernelspec": {
   "display_name": "space",
   "language": "python",
   "name": "python3"
  },
  "language_info": {
   "codemirror_mode": {
    "name": "ipython",
    "version": 3
   },
   "file_extension": ".py",
   "mimetype": "text/x-python",
   "name": "python",
   "nbconvert_exporter": "python",
   "pygments_lexer": "ipython3",
   "version": "3.12.5"
  }
 },
 "nbformat": 4,
 "nbformat_minor": 5
}
