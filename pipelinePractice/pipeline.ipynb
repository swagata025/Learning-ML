{
 "cells": [
  {
   "cell_type": "markdown",
   "id": "59611434",
   "metadata": {},
   "source": [
    "Uploading dataset and working with it"
   ]
  },
  {
   "cell_type": "code",
   "execution_count": 19,
   "id": "39edf193",
   "metadata": {},
   "outputs": [],
   "source": [
    "import pandas as pd \n",
    "import numpy as np \n",
    "import matplotlib.pyplot as plt \n",
    "df = pd.read_csv(\"star_type_ .csv\")"
   ]
  },
  {
   "cell_type": "markdown",
   "id": "3c0eaecf",
   "metadata": {},
   "source": [
    "Basic information"
   ]
  },
  {
   "cell_type": "code",
   "execution_count": 20,
   "id": "ec07fa2f",
   "metadata": {},
   "outputs": [
    {
     "data": {
      "text/html": [
       "<div>\n",
       "<style scoped>\n",
       "    .dataframe tbody tr th:only-of-type {\n",
       "        vertical-align: middle;\n",
       "    }\n",
       "\n",
       "    .dataframe tbody tr th {\n",
       "        vertical-align: top;\n",
       "    }\n",
       "\n",
       "    .dataframe thead th {\n",
       "        text-align: right;\n",
       "    }\n",
       "</style>\n",
       "<table border=\"1\" class=\"dataframe\">\n",
       "  <thead>\n",
       "    <tr style=\"text-align: right;\">\n",
       "      <th></th>\n",
       "      <th>Temperature (K)</th>\n",
       "      <th>Luminosity(L/Lo)</th>\n",
       "      <th>Radius(R/Ro)</th>\n",
       "      <th>Absolute magnitude(Mv)</th>\n",
       "      <th>Star type</th>\n",
       "    </tr>\n",
       "  </thead>\n",
       "  <tbody>\n",
       "    <tr>\n",
       "      <th>91</th>\n",
       "      <td>4526</td>\n",
       "      <td>0.1530</td>\n",
       "      <td>0.865</td>\n",
       "      <td>6.506</td>\n",
       "      <td>Main Sequence</td>\n",
       "    </tr>\n",
       "    <tr>\n",
       "      <th>137</th>\n",
       "      <td>3598</td>\n",
       "      <td>0.0011</td>\n",
       "      <td>0.560</td>\n",
       "      <td>14.260</td>\n",
       "      <td>Red Dwarf</td>\n",
       "    </tr>\n",
       "    <tr>\n",
       "      <th>171</th>\n",
       "      <td>3500</td>\n",
       "      <td>138000.0000</td>\n",
       "      <td>1420.000</td>\n",
       "      <td>-8.180</td>\n",
       "      <td>Supergiant</td>\n",
       "    </tr>\n",
       "    <tr>\n",
       "      <th>52</th>\n",
       "      <td>3834</td>\n",
       "      <td>272000.0000</td>\n",
       "      <td>1183.000</td>\n",
       "      <td>-9.200</td>\n",
       "      <td>Supergiant</td>\n",
       "    </tr>\n",
       "    <tr>\n",
       "      <th>168</th>\n",
       "      <td>17383</td>\n",
       "      <td>342900.0000</td>\n",
       "      <td>30.000</td>\n",
       "      <td>-6.090</td>\n",
       "      <td>Hypergiant</td>\n",
       "    </tr>\n",
       "  </tbody>\n",
       "</table>\n",
       "</div>"
      ],
      "text/plain": [
       "     Temperature (K)  Luminosity(L/Lo)  Radius(R/Ro)  Absolute magnitude(Mv)  \\\n",
       "91              4526            0.1530         0.865                   6.506   \n",
       "137             3598            0.0011         0.560                  14.260   \n",
       "171             3500       138000.0000      1420.000                  -8.180   \n",
       "52              3834       272000.0000      1183.000                  -9.200   \n",
       "168            17383       342900.0000        30.000                  -6.090   \n",
       "\n",
       "         Star type  \n",
       "91   Main Sequence  \n",
       "137      Red Dwarf  \n",
       "171     Supergiant  \n",
       "52      Supergiant  \n",
       "168     Hypergiant  "
      ]
     },
     "execution_count": 20,
     "metadata": {},
     "output_type": "execute_result"
    }
   ],
   "source": [
    "df.sample(5)"
   ]
  },
  {
   "cell_type": "code",
   "execution_count": 21,
   "id": "b53c1505",
   "metadata": {},
   "outputs": [
    {
     "name": "stdout",
     "output_type": "stream",
     "text": [
      "<class 'pandas.core.frame.DataFrame'>\n",
      "RangeIndex: 240 entries, 0 to 239\n",
      "Data columns (total 5 columns):\n",
      " #   Column                  Non-Null Count  Dtype  \n",
      "---  ------                  --------------  -----  \n",
      " 0   Temperature (K)         240 non-null    int64  \n",
      " 1   Luminosity(L/Lo)        240 non-null    float64\n",
      " 2   Radius(R/Ro)            240 non-null    float64\n",
      " 3   Absolute magnitude(Mv)  240 non-null    float64\n",
      " 4   Star type               240 non-null    object \n",
      "dtypes: float64(3), int64(1), object(1)\n",
      "memory usage: 9.5+ KB\n"
     ]
    }
   ],
   "source": [
    "df.info()"
   ]
  },
  {
   "cell_type": "code",
   "execution_count": 22,
   "id": "275ca2b4",
   "metadata": {},
   "outputs": [
    {
     "data": {
      "text/plain": [
       "Star type\n",
       "Brown Dwarf      40\n",
       "Red Dwarf        40\n",
       "White Dwarf      40\n",
       "Main Sequence    40\n",
       "Hypergiant       40\n",
       "Supergiant       40\n",
       "Name: count, dtype: int64"
      ]
     },
     "execution_count": 22,
     "metadata": {},
     "output_type": "execute_result"
    }
   ],
   "source": [
    "df[\"Star type\"].value_counts()"
   ]
  },
  {
   "cell_type": "markdown",
   "id": "4754c891",
   "metadata": {},
   "source": [
    "Making a pipeline"
   ]
  },
  {
   "cell_type": "code",
   "execution_count": 23,
   "id": "f685132f",
   "metadata": {},
   "outputs": [],
   "source": [
    "from sklearn.linear_model import LogisticRegression\n",
    "from sklearn.pipeline import Pipeline\n",
    "from sklearn.preprocessing import StandardScaler\n",
    "\n"
   ]
  },
  {
   "cell_type": "code",
   "execution_count": 1,
   "id": "3ffc449f",
   "metadata": {},
   "outputs": [
    {
     "name": "stdout",
     "output_type": "stream",
     "text": [
      "c:\\Users\\Swagata\\OneDrive\\Desktop\\work space\\Learning ML\\space\\Scripts\\python.exe\n"
     ]
    }
   ],
   "source": [
    "import sys\n",
    "print(sys.executable)\n"
   ]
  },
  {
   "cell_type": "code",
   "execution_count": null,
   "id": "2c582aef",
   "metadata": {},
   "outputs": [
    {
     "name": "stdout",
     "output_type": "stream",
     "text": [
      "pip 24.2 from c:\\Users\\Swagata\\OneDrive\\Desktop\\work space\\Learning ML\\space\\Lib\\site-packages\\pip (python 3.12)\n",
      "\n"
     ]
    }
   ],
   "source": [
    "!python -m pip -V"
   ]
  }
 ],
 "metadata": {
  "kernelspec": {
   "display_name": "space",
   "language": "python",
   "name": "python3"
  },
  "language_info": {
   "codemirror_mode": {
    "name": "ipython",
    "version": 3
   },
   "file_extension": ".py",
   "mimetype": "text/x-python",
   "name": "python",
   "nbconvert_exporter": "python",
   "pygments_lexer": "ipython3",
   "version": "3.12.5"
  }
 },
 "nbformat": 4,
 "nbformat_minor": 5
}
